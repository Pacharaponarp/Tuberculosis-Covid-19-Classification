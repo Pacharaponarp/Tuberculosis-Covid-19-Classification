{
  "nbformat": 4,
  "nbformat_minor": 0,
  "metadata": {
    "colab": {
      "provenance": [],
      "authorship_tag": "ABX9TyNxv/UDnLABvBITW7RP48Cm",
      "include_colab_link": true
    },
    "kernelspec": {
      "name": "python3",
      "display_name": "Python 3"
    },
    "language_info": {
      "name": "python"
    },
    "accelerator": "GPU"
  },
  "cells": [
    {
      "cell_type": "markdown",
      "metadata": {
        "id": "view-in-github",
        "colab_type": "text"
      },
      "source": [
        "<a href=\"https://colab.research.google.com/github/Pacharaponarp/Tuberculosis-Covid-19-Classification/blob/main/Covid_Admitted.ipynb\" target=\"_parent\"><img src=\"https://colab.research.google.com/assets/colab-badge.svg\" alt=\"Open In Colab\"/></a>"
      ]
    },
    {
      "cell_type": "code",
      "metadata": {
        "id": "nlzrYiN2etLq"
      },
      "source": [
        "import numpy as np \n",
        "import pandas as pd \n",
        "import os, warnings\n",
        "import tensorflow as tf\n",
        "import matplotlib.pyplot as plt\n",
        "from matplotlib import gridspec\n",
        "from tensorflow import keras\n",
        "from tensorflow.keras import layers\n",
        "from tensorflow.keras.layers.experimental import preprocessing\n",
        "from tensorflow.keras.preprocessing.image import ImageDataGenerator\n",
        "from sklearn.model_selection import train_test_split\n",
        "from skimage import data, img_as_float\n",
        "from skimage import exposure\n",
        "\n",
        "def set_seed(seed=12345):\n",
        "    np.random.seed(seed)\n",
        "    tf.random.set_seed(seed)\n",
        "    os.environ['PYTHONHASHSEED'] = str(seed)\n",
        "    os.environ['TF_DETERMINISTIC_OPS'] = '1'\n",
        "set_seed()\n",
        "# Set Matplotlib defaults\n",
        "plt.rc('figure', autolayout=True)\n",
        "plt.rc('axes', labelweight='bold', labelsize='large',\n",
        "       titleweight='bold', titlesize=18, titlepad=10)\n",
        "plt.rc('image', cmap='magma')\n",
        "warnings.filterwarnings(\"ignore\") # to clean up output cells"
      ],
      "execution_count": 1,
      "outputs": []
    },
    {
      "cell_type": "code",
      "metadata": {
        "colab": {
          "base_uri": "https://localhost:8080/"
        },
        "id": "NDJsA751e-ky",
        "outputId": "5aac7fc3-bca0-4b93-ce0c-3b27d3549bc1"
      },
      "source": [
        "from google.colab import drive\n",
        "drive.mount('/content/gdrive')"
      ],
      "execution_count": 2,
      "outputs": [
        {
          "output_type": "stream",
          "name": "stdout",
          "text": [
            "Mounted at /content/gdrive\n"
          ]
        }
      ]
    },
    {
      "cell_type": "code",
      "metadata": {
        "id": "hYjSzeHmfYIx"
      },
      "source": [
        "!mkdir '/content/data'\n",
        "!cp -av '_' '/content/data'"
      ],
      "execution_count": null,
      "outputs": []
    },
    {
      "cell_type": "code",
      "metadata": {
        "id": "GWzzfW_Hgely"
      },
      "source": [
        "drive.flush_and_unmount()"
      ],
      "execution_count": 4,
      "outputs": []
    },
    {
      "cell_type": "code",
      "metadata": {
        "colab": {
          "base_uri": "https://localhost:8080/",
          "height": 363
        },
        "id": "iXwOBxiVlk0b",
        "outputId": "eaa3fbbb-7a71-4890-b980-3f7a4a3e719e"
      },
      "source": [
        "dataframe = pd.read_csv('/content/data/_.tsv', sep='\\t', header=0)\n",
        "img_path = '/content/data/_'\n",
        "df = dataframe[['CXR File','Admitted']]\n",
        "df.rename(columns = {'CXR File': 'filename', 'Admitted': 'label'}, inplace = True)\n",
        "df['label'] = df['label'].astype(str)\n",
        "df.head(10)"
      ],
      "execution_count": 5,
      "outputs": [
        {
          "output_type": "execute_result",
          "data": {
            "text/plain": [
              "      filename label\n",
              "0  8/50778.png     0\n",
              "1  7/43736.png     0\n",
              "2  7/41166.png     0\n",
              "3  8/52753.png     0\n",
              "4  8/51542.png     0\n",
              "5  7/48650.png     0\n",
              "6  8/50833.png     0\n",
              "7  7/46666.png     0\n",
              "8  7/46664.png     0\n",
              "9  7/47716.png     1"
            ],
            "text/html": [
              "\n",
              "  <div id=\"df-c57b59a8-9fe5-4a23-bbed-5dbc3dc692fe\">\n",
              "    <div class=\"colab-df-container\">\n",
              "      <div>\n",
              "<style scoped>\n",
              "    .dataframe tbody tr th:only-of-type {\n",
              "        vertical-align: middle;\n",
              "    }\n",
              "\n",
              "    .dataframe tbody tr th {\n",
              "        vertical-align: top;\n",
              "    }\n",
              "\n",
              "    .dataframe thead th {\n",
              "        text-align: right;\n",
              "    }\n",
              "</style>\n",
              "<table border=\"1\" class=\"dataframe\">\n",
              "  <thead>\n",
              "    <tr style=\"text-align: right;\">\n",
              "      <th></th>\n",
              "      <th>filename</th>\n",
              "      <th>label</th>\n",
              "    </tr>\n",
              "  </thead>\n",
              "  <tbody>\n",
              "    <tr>\n",
              "      <th>0</th>\n",
              "      <td>8/50778.png</td>\n",
              "      <td>0</td>\n",
              "    </tr>\n",
              "    <tr>\n",
              "      <th>1</th>\n",
              "      <td>7/43736.png</td>\n",
              "      <td>0</td>\n",
              "    </tr>\n",
              "    <tr>\n",
              "      <th>2</th>\n",
              "      <td>7/41166.png</td>\n",
              "      <td>0</td>\n",
              "    </tr>\n",
              "    <tr>\n",
              "      <th>3</th>\n",
              "      <td>8/52753.png</td>\n",
              "      <td>0</td>\n",
              "    </tr>\n",
              "    <tr>\n",
              "      <th>4</th>\n",
              "      <td>8/51542.png</td>\n",
              "      <td>0</td>\n",
              "    </tr>\n",
              "    <tr>\n",
              "      <th>5</th>\n",
              "      <td>7/48650.png</td>\n",
              "      <td>0</td>\n",
              "    </tr>\n",
              "    <tr>\n",
              "      <th>6</th>\n",
              "      <td>8/50833.png</td>\n",
              "      <td>0</td>\n",
              "    </tr>\n",
              "    <tr>\n",
              "      <th>7</th>\n",
              "      <td>7/46666.png</td>\n",
              "      <td>0</td>\n",
              "    </tr>\n",
              "    <tr>\n",
              "      <th>8</th>\n",
              "      <td>7/46664.png</td>\n",
              "      <td>0</td>\n",
              "    </tr>\n",
              "    <tr>\n",
              "      <th>9</th>\n",
              "      <td>7/47716.png</td>\n",
              "      <td>1</td>\n",
              "    </tr>\n",
              "  </tbody>\n",
              "</table>\n",
              "</div>\n",
              "      <button class=\"colab-df-convert\" onclick=\"convertToInteractive('df-c57b59a8-9fe5-4a23-bbed-5dbc3dc692fe')\"\n",
              "              title=\"Convert this dataframe to an interactive table.\"\n",
              "              style=\"display:none;\">\n",
              "        \n",
              "  <svg xmlns=\"http://www.w3.org/2000/svg\" height=\"24px\"viewBox=\"0 0 24 24\"\n",
              "       width=\"24px\">\n",
              "    <path d=\"M0 0h24v24H0V0z\" fill=\"none\"/>\n",
              "    <path d=\"M18.56 5.44l.94 2.06.94-2.06 2.06-.94-2.06-.94-.94-2.06-.94 2.06-2.06.94zm-11 1L8.5 8.5l.94-2.06 2.06-.94-2.06-.94L8.5 2.5l-.94 2.06-2.06.94zm10 10l.94 2.06.94-2.06 2.06-.94-2.06-.94-.94-2.06-.94 2.06-2.06.94z\"/><path d=\"M17.41 7.96l-1.37-1.37c-.4-.4-.92-.59-1.43-.59-.52 0-1.04.2-1.43.59L10.3 9.45l-7.72 7.72c-.78.78-.78 2.05 0 2.83L4 21.41c.39.39.9.59 1.41.59.51 0 1.02-.2 1.41-.59l7.78-7.78 2.81-2.81c.8-.78.8-2.07 0-2.86zM5.41 20L4 18.59l7.72-7.72 1.47 1.35L5.41 20z\"/>\n",
              "  </svg>\n",
              "      </button>\n",
              "      \n",
              "  <style>\n",
              "    .colab-df-container {\n",
              "      display:flex;\n",
              "      flex-wrap:wrap;\n",
              "      gap: 12px;\n",
              "    }\n",
              "\n",
              "    .colab-df-convert {\n",
              "      background-color: #E8F0FE;\n",
              "      border: none;\n",
              "      border-radius: 50%;\n",
              "      cursor: pointer;\n",
              "      display: none;\n",
              "      fill: #1967D2;\n",
              "      height: 32px;\n",
              "      padding: 0 0 0 0;\n",
              "      width: 32px;\n",
              "    }\n",
              "\n",
              "    .colab-df-convert:hover {\n",
              "      background-color: #E2EBFA;\n",
              "      box-shadow: 0px 1px 2px rgba(60, 64, 67, 0.3), 0px 1px 3px 1px rgba(60, 64, 67, 0.15);\n",
              "      fill: #174EA6;\n",
              "    }\n",
              "\n",
              "    [theme=dark] .colab-df-convert {\n",
              "      background-color: #3B4455;\n",
              "      fill: #D2E3FC;\n",
              "    }\n",
              "\n",
              "    [theme=dark] .colab-df-convert:hover {\n",
              "      background-color: #434B5C;\n",
              "      box-shadow: 0px 1px 3px 1px rgba(0, 0, 0, 0.15);\n",
              "      filter: drop-shadow(0px 1px 2px rgba(0, 0, 0, 0.3));\n",
              "      fill: #FFFFFF;\n",
              "    }\n",
              "  </style>\n",
              "\n",
              "      <script>\n",
              "        const buttonEl =\n",
              "          document.querySelector('#df-c57b59a8-9fe5-4a23-bbed-5dbc3dc692fe button.colab-df-convert');\n",
              "        buttonEl.style.display =\n",
              "          google.colab.kernel.accessAllowed ? 'block' : 'none';\n",
              "\n",
              "        async function convertToInteractive(key) {\n",
              "          const element = document.querySelector('#df-c57b59a8-9fe5-4a23-bbed-5dbc3dc692fe');\n",
              "          const dataTable =\n",
              "            await google.colab.kernel.invokeFunction('convertToInteractive',\n",
              "                                                     [key], {});\n",
              "          if (!dataTable) return;\n",
              "\n",
              "          const docLinkHtml = 'Like what you see? Visit the ' +\n",
              "            '<a target=\"_blank\" href=https://colab.research.google.com/notebooks/data_table.ipynb>data table notebook</a>'\n",
              "            + ' to learn more about interactive tables.';\n",
              "          element.innerHTML = '';\n",
              "          dataTable['output_type'] = 'display_data';\n",
              "          await google.colab.output.renderOutput(dataTable, element);\n",
              "          const docLink = document.createElement('div');\n",
              "          docLink.innerHTML = docLinkHtml;\n",
              "          element.appendChild(docLink);\n",
              "        }\n",
              "      </script>\n",
              "    </div>\n",
              "  </div>\n",
              "  "
            ]
          },
          "metadata": {},
          "execution_count": 5
        }
      ]
    },
    {
      "cell_type": "code",
      "metadata": {
        "colab": {
          "base_uri": "https://localhost:8080/"
        },
        "id": "dmt5VE2Fg0ca",
        "outputId": "b9417fd7-ad07-4ec7-c5f4-7120a1e2b673"
      },
      "source": [
        "#train test split\n",
        "print(df.shape)\n",
        "df_train,df_val = train_test_split(df,test_size = 0.20, random_state = 1,stratify = df.label )\n",
        "print(\"train not admitted:\", df_train.loc[df_train.label == '0'].shape[0])\n",
        "print(\"train admitted:\", df_train.loc[df_train.label == '1'].shape[0])\n",
        "print(\"val not admitted:\", df_val.loc[df_val.label == '0'].shape[0])\n",
        "print(\"val admitted:\", df_val.loc[df_val.label == '1'].shape[0])\n"
      ],
      "execution_count": 6,
      "outputs": [
        {
          "output_type": "stream",
          "name": "stdout",
          "text": [
            "(631, 2)\n",
            "train not admitted: 406\n",
            "train admitted: 98\n",
            "val not admitted: 102\n",
            "val admitted: 25\n"
          ]
        }
      ]
    },
    {
      "cell_type": "code",
      "metadata": {
        "id": "9goFd5O-iZGv"
      },
      "source": [
        "def hist_equal(img):\n",
        "  return exposure.equalize_hist(img)*255\n",
        "\n",
        "#imagedatagenerator\n",
        "datagen = ImageDataGenerator(\n",
        "    horizontal_flip = True,\n",
        "    rotation_range=5,\n",
        "    width_shift_range=0.05,\n",
        "    height_shift_range=0.05,\n",
        "    zoom_range= [0.9,1.0],\n",
        "    #preprocessing_function = hist_equal\n",
        ")\n",
        "val_datagen = ImageDataGenerator(\n",
        "    #preprocessing_function = hist_equal\n",
        ")\n",
        "train_gen = datagen.flow_from_dataframe(\n",
        "    df_train,directory = img_path,\n",
        "    x_col='filename', \n",
        "    y_col='label',\n",
        "    target_size=(150, 150),\n",
        "    batch_size = 32,\n",
        "    class_mode = 'categorical'\n",
        ")\n",
        "val_gen = val_datagen.flow_from_dataframe(\n",
        "    df_val,directory = img_path,\n",
        "    x_col='filename', \n",
        "    y_col='label',\n",
        "    target_size=(150, 150),\n",
        "    batch_size = 32,\n",
        "    class_mode = 'categorical'\n",
        ")\n",
        "ims,labels = train_gen.next()\n",
        "titles = None\n",
        "interp = False\n",
        "# plot raw pixel data\n",
        "print(ims[0].shape)\n",
        "print(hist_equal(ims[0]).shape)\n",
        "#print(ims[0])\n",
        "if type(ims[0]) is np.ndarray:\n",
        "        ims = np.array(ims).astype(np.uint8)\n",
        "        if (ims.shape[-1] != 3):\n",
        "            ims = ims.transpose((0,2,3,1))\n",
        "f = plt.figure(figsize=(20,10))\n",
        "for i in range(20):\n",
        "        sp = f.add_subplot(5, 4, i+1)\n",
        "        sp.axis('Off')\n",
        "        if titles is not None:\n",
        "            sp.set_title(titles[i], fontsize=16)\n",
        "        plt.imshow(ims[i], interpolation=None if interp else 'none')"
      ],
      "execution_count": null,
      "outputs": []
    },
    {
      "cell_type": "code",
      "metadata": {
        "colab": {
          "base_uri": "https://localhost:8080/"
        },
        "id": "9Gwj3awQicFy",
        "outputId": "1271e7da-d208-48d1-9ca2-25a5ab588220"
      },
      "source": [
        "pretrained_model = tf.keras.applications.ResNet101(\n",
        "    input_shape=(150, 150, 3),\n",
        "    include_top=False,\n",
        "    weights='imagenet',\n",
        ")\n",
        "pretrained_model.trainable = False\n",
        "\n",
        "model =keras.Sequential([\n",
        "    layers.InputLayer(input_shape=(150, 150,3)),\n",
        "    pretrained_model,\n",
        "    layers.Flatten(),\n",
        "    #layers.BatchNormalization(renorm=True),\n",
        "    #layers.Dense(units = 32, activation = 'relu'),\n",
        "    #layers.Dropout(rate=0.1),\n",
        "    layers.Dense(units = 2,activation = 'softmax')\n",
        "])\n",
        "optimizer = tf.keras.optimizers.Adam(learning_rate = 0.0003)\n",
        "model.compile(\n",
        "    optimizer=optimizer,\n",
        "    loss = 'binary_crossentropy',\n",
        "    metrics=['accuracy',tf.keras.metrics.Precision(), tf.keras.metrics.Recall()],\n",
        ")\n",
        "\n",
        "model.summary()\n"
      ],
      "execution_count": 8,
      "outputs": [
        {
          "output_type": "stream",
          "name": "stdout",
          "text": [
            "Downloading data from https://storage.googleapis.com/tensorflow/keras-applications/resnet/resnet101_weights_tf_dim_ordering_tf_kernels_notop.h5\n",
            "171446536/171446536 [==============================] - 1s 0us/step\n",
            "Model: \"sequential\"\n",
            "_________________________________________________________________\n",
            " Layer (type)                Output Shape              Param #   \n",
            "=================================================================\n",
            " resnet101 (Functional)      (None, 5, 5, 2048)        42658176  \n",
            "                                                                 \n",
            " flatten (Flatten)           (None, 51200)             0         \n",
            "                                                                 \n",
            " dense (Dense)               (None, 2)                 102402    \n",
            "                                                                 \n",
            "=================================================================\n",
            "Total params: 42,760,578\n",
            "Trainable params: 102,402\n",
            "Non-trainable params: 42,658,176\n",
            "_________________________________________________________________\n"
          ]
        }
      ]
    },
    {
      "cell_type": "code",
      "metadata": {
        "id": "NGFyup9VjH9d"
      },
      "source": [
        "#early stopping,checkpoint,reduce_lr and scheduler\n",
        "\n",
        "early_stopping = keras.callbacks.EarlyStopping(\n",
        "    patience=15,\n",
        "    min_delta=0,\n",
        "    restore_best_weights=True,\n",
        ")\n",
        "filepath = '/content/data/'\n",
        "checkpoint = keras.callbacks.ModelCheckpoint(filepath, monitor='val_accuracy', verbose=1, \n",
        "                             save_best_only=True, mode='max')\n",
        "reduce_lr = keras.callbacks.ReduceLROnPlateau(monitor='val_accuracy', factor=0.5, patience=2, \n",
        "                                   verbose=1, mode='max', min_lr=0.00001)\n",
        "def scheduler(epoch, lr):\n",
        "  if epoch < 10:\n",
        "    return lr\n",
        "  else:\n",
        "    return lr * tf.math.exp(-0.1)\n",
        "lrScheduler = keras.callbacks.LearningRateScheduler(scheduler)"
      ],
      "execution_count": 9,
      "outputs": []
    },
    {
      "cell_type": "code",
      "metadata": {
        "colab": {
          "base_uri": "https://localhost:8080/"
        },
        "id": "i02HWkgqjK7Y",
        "outputId": "14e79cb6-f924-4065-d5d9-2f6c28d69ac3"
      },
      "source": [
        "history = model.fit_generator(\n",
        "    train_gen,\n",
        "    validation_data=val_gen,\n",
        "    epochs=30,\n",
        "    callbacks=[checkpoint,reduce_lr]\n",
        ")"
      ],
      "execution_count": 10,
      "outputs": [
        {
          "output_type": "stream",
          "name": "stdout",
          "text": [
            "Epoch 1/30\n",
            "16/16 [==============================] - ETA: 0s - loss: 1.3093 - accuracy: 0.7242 - precision: 0.7242 - recall: 0.7242\n",
            "Epoch 1: val_accuracy improved from -inf to 0.84252, saving model to /content/data/\n"
          ]
        },
        {
          "output_type": "stream",
          "name": "stderr",
          "text": [
            "WARNING:absl:Found untraced functions such as _jit_compiled_convolution_op, _jit_compiled_convolution_op, _jit_compiled_convolution_op, _jit_compiled_convolution_op, _jit_compiled_convolution_op while saving (showing 5 of 104). These functions will not be directly callable after loading.\n"
          ]
        },
        {
          "output_type": "stream",
          "name": "stdout",
          "text": [
            "\b\b\b\b\b\b\b\b\b\b\b\b\b\b\b\b\b\b\b\b\b\b\b\b\b\b\b\b\b\b\b\b\b\b\b\b\b\b\b\b\b\b\b\b\b\b\b\b\b\b\b\b\b\b\b\b\b\b\b\b\b\b\b\b\b\b\b\b\b\b\b\b\b\b\b\b\b\b\b\b\b\b\b\b\b\b\b\b\b\b\b\b\b\b\b\b\b\b\b\b\b\b\b\b\b\b\b\b\b\b\b\b\b\b\b\b\b\b\b\r16/16 [==============================] - 68s 4s/step - loss: 1.3093 - accuracy: 0.7242 - precision: 0.7242 - recall: 0.7242 - val_loss: 0.7857 - val_accuracy: 0.8425 - val_precision: 0.8425 - val_recall: 0.8425 - lr: 3.0000e-04\n",
            "Epoch 2/30\n",
            "16/16 [==============================] - ETA: 0s - loss: 0.5606 - accuracy: 0.8710 - precision: 0.8710 - recall: 0.8710\n",
            "Epoch 2: val_accuracy improved from 0.84252 to 0.87402, saving model to /content/data/\n"
          ]
        },
        {
          "output_type": "stream",
          "name": "stderr",
          "text": [
            "WARNING:absl:Found untraced functions such as _jit_compiled_convolution_op, _jit_compiled_convolution_op, _jit_compiled_convolution_op, _jit_compiled_convolution_op, _jit_compiled_convolution_op while saving (showing 5 of 104). These functions will not be directly callable after loading.\n"
          ]
        },
        {
          "output_type": "stream",
          "name": "stdout",
          "text": [
            "\b\b\b\b\b\b\b\b\b\b\b\b\b\b\b\b\b\b\b\b\b\b\b\b\b\b\b\b\b\b\b\b\b\b\b\b\b\b\b\b\b\b\b\b\b\b\b\b\b\b\b\b\b\b\b\b\b\b\b\b\b\b\b\b\b\b\b\b\b\b\b\b\b\b\b\b\b\b\b\b\b\b\b\b\b\b\b\b\b\b\b\b\b\b\b\b\b\b\b\b\b\b\b\b\b\b\b\b\b\b\b\b\b\b\b\b\b\b\b\r16/16 [==============================] - 52s 3s/step - loss: 0.5606 - accuracy: 0.8710 - precision: 0.8710 - recall: 0.8710 - val_loss: 0.3281 - val_accuracy: 0.8740 - val_precision: 0.8740 - val_recall: 0.8740 - lr: 3.0000e-04\n",
            "Epoch 3/30\n",
            "16/16 [==============================] - ETA: 0s - loss: 0.3275 - accuracy: 0.9107 - precision: 0.9107 - recall: 0.9107\n",
            "Epoch 3: val_accuracy improved from 0.87402 to 0.91339, saving model to /content/data/\n"
          ]
        },
        {
          "output_type": "stream",
          "name": "stderr",
          "text": [
            "WARNING:absl:Found untraced functions such as _jit_compiled_convolution_op, _jit_compiled_convolution_op, _jit_compiled_convolution_op, _jit_compiled_convolution_op, _jit_compiled_convolution_op while saving (showing 5 of 104). These functions will not be directly callable after loading.\n"
          ]
        },
        {
          "output_type": "stream",
          "name": "stdout",
          "text": [
            "\b\b\b\b\b\b\b\b\b\b\b\b\b\b\b\b\b\b\b\b\b\b\b\b\b\b\b\b\b\b\b\b\b\b\b\b\b\b\b\b\b\b\b\b\b\b\b\b\b\b\b\b\b\b\b\b\b\b\b\b\b\b\b\b\b\b\b\b\b\b\b\b\b\b\b\b\b\b\b\b\b\b\b\b\b\b\b\b\b\b\b\b\b\b\b\b\b\b\b\b\b\b\b\b\b\b\b\b\b\b\b\b\b\b\b\b\b\b\b\r16/16 [==============================] - 52s 3s/step - loss: 0.3275 - accuracy: 0.9107 - precision: 0.9107 - recall: 0.9107 - val_loss: 0.3306 - val_accuracy: 0.9134 - val_precision: 0.9134 - val_recall: 0.9134 - lr: 3.0000e-04\n",
            "Epoch 4/30\n",
            "16/16 [==============================] - ETA: 0s - loss: 0.2350 - accuracy: 0.9365 - precision: 0.9365 - recall: 0.9365\n",
            "Epoch 4: val_accuracy did not improve from 0.91339\n",
            "16/16 [==============================] - 12s 771ms/step - loss: 0.2350 - accuracy: 0.9365 - precision: 0.9365 - recall: 0.9365 - val_loss: 0.3499 - val_accuracy: 0.8740 - val_precision: 0.8740 - val_recall: 0.8740 - lr: 3.0000e-04\n",
            "Epoch 5/30\n",
            "16/16 [==============================] - ETA: 0s - loss: 0.2036 - accuracy: 0.9405 - precision: 0.9405 - recall: 0.9405\n",
            "Epoch 5: val_accuracy improved from 0.91339 to 0.92126, saving model to /content/data/\n"
          ]
        },
        {
          "output_type": "stream",
          "name": "stderr",
          "text": [
            "WARNING:absl:Found untraced functions such as _jit_compiled_convolution_op, _jit_compiled_convolution_op, _jit_compiled_convolution_op, _jit_compiled_convolution_op, _jit_compiled_convolution_op while saving (showing 5 of 104). These functions will not be directly callable after loading.\n"
          ]
        },
        {
          "output_type": "stream",
          "name": "stdout",
          "text": [
            "\b\b\b\b\b\b\b\b\b\b\b\b\b\b\b\b\b\b\b\b\b\b\b\b\b\b\b\b\b\b\b\b\b\b\b\b\b\b\b\b\b\b\b\b\b\b\b\b\b\b\b\b\b\b\b\b\b\b\b\b\b\b\b\b\b\b\b\b\b\b\b\b\b\b\b\b\b\b\b\b\b\b\b\b\b\b\b\b\b\b\b\b\b\b\b\b\b\b\b\b\b\b\b\b\b\b\b\b\b\b\b\b\b\b\b\b\b\b\b\r16/16 [==============================] - 53s 4s/step - loss: 0.2036 - accuracy: 0.9405 - precision: 0.9405 - recall: 0.9405 - val_loss: 0.3102 - val_accuracy: 0.9213 - val_precision: 0.9213 - val_recall: 0.9213 - lr: 3.0000e-04\n",
            "Epoch 6/30\n",
            "16/16 [==============================] - ETA: 0s - loss: 0.2325 - accuracy: 0.9444 - precision: 0.9444 - recall: 0.9444\n",
            "Epoch 6: val_accuracy did not improve from 0.92126\n",
            "16/16 [==============================] - 13s 788ms/step - loss: 0.2325 - accuracy: 0.9444 - precision: 0.9444 - recall: 0.9444 - val_loss: 0.2984 - val_accuracy: 0.9213 - val_precision: 0.9213 - val_recall: 0.9213 - lr: 3.0000e-04\n",
            "Epoch 7/30\n",
            "16/16 [==============================] - ETA: 0s - loss: 0.1900 - accuracy: 0.9365 - precision: 0.9365 - recall: 0.9365\n",
            "Epoch 7: val_accuracy improved from 0.92126 to 0.92913, saving model to /content/data/\n"
          ]
        },
        {
          "output_type": "stream",
          "name": "stderr",
          "text": [
            "WARNING:absl:Found untraced functions such as _jit_compiled_convolution_op, _jit_compiled_convolution_op, _jit_compiled_convolution_op, _jit_compiled_convolution_op, _jit_compiled_convolution_op while saving (showing 5 of 104). These functions will not be directly callable after loading.\n"
          ]
        },
        {
          "output_type": "stream",
          "name": "stdout",
          "text": [
            "\b\b\b\b\b\b\b\b\b\b\b\b\b\b\b\b\b\b\b\b\b\b\b\b\b\b\b\b\b\b\b\b\b\b\b\b\b\b\b\b\b\b\b\b\b\b\b\b\b\b\b\b\b\b\b\b\b\b\b\b\b\b\b\b\b\b\b\b\b\b\b\b\b\b\b\b\b\b\b\b\b\b\b\b\b\b\b\b\b\b\b\b\b\b\b\b\b\b\b\b\b\b\b\b\b\b\b\b\b\b\b\b\b\b\b\b\b\b\b\r16/16 [==============================] - 54s 4s/step - loss: 0.1900 - accuracy: 0.9365 - precision: 0.9365 - recall: 0.9365 - val_loss: 0.3509 - val_accuracy: 0.9291 - val_precision: 0.9291 - val_recall: 0.9291 - lr: 3.0000e-04\n",
            "Epoch 8/30\n",
            "16/16 [==============================] - ETA: 0s - loss: 0.1891 - accuracy: 0.9524 - precision: 0.9524 - recall: 0.9524\n",
            "Epoch 8: val_accuracy did not improve from 0.92913\n",
            "16/16 [==============================] - 13s 792ms/step - loss: 0.1891 - accuracy: 0.9524 - precision: 0.9524 - recall: 0.9524 - val_loss: 0.3672 - val_accuracy: 0.8819 - val_precision: 0.8819 - val_recall: 0.8819 - lr: 3.0000e-04\n",
            "Epoch 9/30\n",
            "16/16 [==============================] - ETA: 0s - loss: 0.0998 - accuracy: 0.9623 - precision: 0.9623 - recall: 0.9623\n",
            "Epoch 9: val_accuracy did not improve from 0.92913\n",
            "\n",
            "Epoch 9: ReduceLROnPlateau reducing learning rate to 0.0001500000071246177.\n",
            "16/16 [==============================] - 13s 791ms/step - loss: 0.0998 - accuracy: 0.9623 - precision: 0.9623 - recall: 0.9623 - val_loss: 0.3063 - val_accuracy: 0.9055 - val_precision: 0.9055 - val_recall: 0.9055 - lr: 3.0000e-04\n",
            "Epoch 10/30\n",
            "16/16 [==============================] - ETA: 0s - loss: 0.1173 - accuracy: 0.9544 - precision: 0.9544 - recall: 0.9544\n",
            "Epoch 10: val_accuracy did not improve from 0.92913\n",
            "16/16 [==============================] - 13s 788ms/step - loss: 0.1173 - accuracy: 0.9544 - precision: 0.9544 - recall: 0.9544 - val_loss: 0.3347 - val_accuracy: 0.8976 - val_precision: 0.8976 - val_recall: 0.8976 - lr: 1.5000e-04\n",
            "Epoch 11/30\n",
            "16/16 [==============================] - ETA: 0s - loss: 0.1070 - accuracy: 0.9742 - precision: 0.9742 - recall: 0.9742\n",
            "Epoch 11: val_accuracy did not improve from 0.92913\n",
            "\n",
            "Epoch 11: ReduceLROnPlateau reducing learning rate to 7.500000356230885e-05.\n",
            "16/16 [==============================] - 13s 822ms/step - loss: 0.1070 - accuracy: 0.9742 - precision: 0.9742 - recall: 0.9742 - val_loss: 0.3472 - val_accuracy: 0.8898 - val_precision: 0.8898 - val_recall: 0.8898 - lr: 1.5000e-04\n",
            "Epoch 12/30\n",
            "16/16 [==============================] - ETA: 0s - loss: 0.0833 - accuracy: 0.9802 - precision: 0.9802 - recall: 0.9802\n",
            "Epoch 12: val_accuracy did not improve from 0.92913\n",
            "16/16 [==============================] - 13s 798ms/step - loss: 0.0833 - accuracy: 0.9802 - precision: 0.9802 - recall: 0.9802 - val_loss: 0.3332 - val_accuracy: 0.8819 - val_precision: 0.8819 - val_recall: 0.8819 - lr: 7.5000e-05\n",
            "Epoch 13/30\n",
            "16/16 [==============================] - ETA: 0s - loss: 0.0907 - accuracy: 0.9683 - precision: 0.9683 - recall: 0.9683\n",
            "Epoch 13: val_accuracy did not improve from 0.92913\n",
            "\n",
            "Epoch 13: ReduceLROnPlateau reducing learning rate to 3.7500001781154424e-05.\n",
            "16/16 [==============================] - 13s 797ms/step - loss: 0.0907 - accuracy: 0.9683 - precision: 0.9683 - recall: 0.9683 - val_loss: 0.2951 - val_accuracy: 0.8976 - val_precision: 0.8976 - val_recall: 0.8976 - lr: 7.5000e-05\n",
            "Epoch 14/30\n",
            "16/16 [==============================] - ETA: 0s - loss: 0.0845 - accuracy: 0.9742 - precision: 0.9742 - recall: 0.9742\n",
            "Epoch 14: val_accuracy did not improve from 0.92913\n",
            "16/16 [==============================] - 13s 802ms/step - loss: 0.0845 - accuracy: 0.9742 - precision: 0.9742 - recall: 0.9742 - val_loss: 0.2913 - val_accuracy: 0.8976 - val_precision: 0.8976 - val_recall: 0.8976 - lr: 3.7500e-05\n",
            "Epoch 15/30\n",
            "16/16 [==============================] - ETA: 0s - loss: 0.0815 - accuracy: 0.9722 - precision: 0.9722 - recall: 0.9722\n",
            "Epoch 15: val_accuracy did not improve from 0.92913\n",
            "\n",
            "Epoch 15: ReduceLROnPlateau reducing learning rate to 1.8750000890577212e-05.\n",
            "16/16 [==============================] - 13s 797ms/step - loss: 0.0815 - accuracy: 0.9722 - precision: 0.9722 - recall: 0.9722 - val_loss: 0.2997 - val_accuracy: 0.9055 - val_precision: 0.9055 - val_recall: 0.9055 - lr: 3.7500e-05\n",
            "Epoch 16/30\n",
            "16/16 [==============================] - ETA: 0s - loss: 0.0714 - accuracy: 0.9782 - precision: 0.9782 - recall: 0.9782\n",
            "Epoch 16: val_accuracy did not improve from 0.92913\n",
            "16/16 [==============================] - 13s 798ms/step - loss: 0.0714 - accuracy: 0.9782 - precision: 0.9782 - recall: 0.9782 - val_loss: 0.2957 - val_accuracy: 0.9134 - val_precision: 0.9134 - val_recall: 0.9134 - lr: 1.8750e-05\n",
            "Epoch 17/30\n",
            "16/16 [==============================] - ETA: 0s - loss: 0.0756 - accuracy: 0.9762 - precision: 0.9762 - recall: 0.9762\n",
            "Epoch 17: val_accuracy did not improve from 0.92913\n",
            "\n",
            "Epoch 17: ReduceLROnPlateau reducing learning rate to 1e-05.\n",
            "16/16 [==============================] - 13s 795ms/step - loss: 0.0756 - accuracy: 0.9762 - precision: 0.9762 - recall: 0.9762 - val_loss: 0.2918 - val_accuracy: 0.9134 - val_precision: 0.9134 - val_recall: 0.9134 - lr: 1.8750e-05\n",
            "Epoch 18/30\n",
            "16/16 [==============================] - ETA: 0s - loss: 0.0685 - accuracy: 0.9802 - precision: 0.9802 - recall: 0.9802\n",
            "Epoch 18: val_accuracy did not improve from 0.92913\n",
            "16/16 [==============================] - 12s 781ms/step - loss: 0.0685 - accuracy: 0.9802 - precision: 0.9802 - recall: 0.9802 - val_loss: 0.2892 - val_accuracy: 0.8976 - val_precision: 0.8976 - val_recall: 0.8976 - lr: 1.0000e-05\n",
            "Epoch 19/30\n",
            "16/16 [==============================] - ETA: 0s - loss: 0.0707 - accuracy: 0.9782 - precision: 0.9782 - recall: 0.9782\n",
            "Epoch 19: val_accuracy did not improve from 0.92913\n",
            "16/16 [==============================] - 13s 791ms/step - loss: 0.0707 - accuracy: 0.9782 - precision: 0.9782 - recall: 0.9782 - val_loss: 0.2907 - val_accuracy: 0.9055 - val_precision: 0.9055 - val_recall: 0.9055 - lr: 1.0000e-05\n",
            "Epoch 20/30\n",
            "16/16 [==============================] - ETA: 0s - loss: 0.0753 - accuracy: 0.9702 - precision: 0.9702 - recall: 0.9702\n",
            "Epoch 20: val_accuracy did not improve from 0.92913\n",
            "16/16 [==============================] - 12s 799ms/step - loss: 0.0753 - accuracy: 0.9702 - precision: 0.9702 - recall: 0.9702 - val_loss: 0.2935 - val_accuracy: 0.9134 - val_precision: 0.9134 - val_recall: 0.9134 - lr: 1.0000e-05\n",
            "Epoch 21/30\n",
            "16/16 [==============================] - ETA: 0s - loss: 0.0879 - accuracy: 0.9663 - precision: 0.9663 - recall: 0.9663\n",
            "Epoch 21: val_accuracy did not improve from 0.92913\n",
            "16/16 [==============================] - 13s 791ms/step - loss: 0.0879 - accuracy: 0.9663 - precision: 0.9663 - recall: 0.9663 - val_loss: 0.2908 - val_accuracy: 0.9055 - val_precision: 0.9055 - val_recall: 0.9055 - lr: 1.0000e-05\n",
            "Epoch 22/30\n",
            "16/16 [==============================] - ETA: 0s - loss: 0.0689 - accuracy: 0.9722 - precision: 0.9722 - recall: 0.9722\n",
            "Epoch 22: val_accuracy did not improve from 0.92913\n",
            "16/16 [==============================] - 12s 784ms/step - loss: 0.0689 - accuracy: 0.9722 - precision: 0.9722 - recall: 0.9722 - val_loss: 0.2898 - val_accuracy: 0.9055 - val_precision: 0.9055 - val_recall: 0.9055 - lr: 1.0000e-05\n",
            "Epoch 23/30\n",
            "16/16 [==============================] - ETA: 0s - loss: 0.0835 - accuracy: 0.9643 - precision: 0.9643 - recall: 0.9643\n",
            "Epoch 23: val_accuracy did not improve from 0.92913\n",
            "16/16 [==============================] - 13s 794ms/step - loss: 0.0835 - accuracy: 0.9643 - precision: 0.9643 - recall: 0.9643 - val_loss: 0.2891 - val_accuracy: 0.9055 - val_precision: 0.9055 - val_recall: 0.9055 - lr: 1.0000e-05\n",
            "Epoch 24/30\n",
            "16/16 [==============================] - ETA: 0s - loss: 0.0755 - accuracy: 0.9663 - precision: 0.9663 - recall: 0.9663\n",
            "Epoch 24: val_accuracy did not improve from 0.92913\n",
            "16/16 [==============================] - 12s 785ms/step - loss: 0.0755 - accuracy: 0.9663 - precision: 0.9663 - recall: 0.9663 - val_loss: 0.2882 - val_accuracy: 0.9055 - val_precision: 0.9055 - val_recall: 0.9055 - lr: 1.0000e-05\n",
            "Epoch 25/30\n",
            "16/16 [==============================] - ETA: 0s - loss: 0.0729 - accuracy: 0.9782 - precision: 0.9782 - recall: 0.9782\n",
            "Epoch 25: val_accuracy did not improve from 0.92913\n",
            "16/16 [==============================] - 13s 819ms/step - loss: 0.0729 - accuracy: 0.9782 - precision: 0.9782 - recall: 0.9782 - val_loss: 0.2905 - val_accuracy: 0.9134 - val_precision: 0.9134 - val_recall: 0.9134 - lr: 1.0000e-05\n",
            "Epoch 26/30\n",
            "16/16 [==============================] - ETA: 0s - loss: 0.0603 - accuracy: 0.9821 - precision: 0.9821 - recall: 0.9821\n",
            "Epoch 26: val_accuracy did not improve from 0.92913\n",
            "16/16 [==============================] - 12s 778ms/step - loss: 0.0603 - accuracy: 0.9821 - precision: 0.9821 - recall: 0.9821 - val_loss: 0.2878 - val_accuracy: 0.9134 - val_precision: 0.9134 - val_recall: 0.9134 - lr: 1.0000e-05\n",
            "Epoch 27/30\n",
            "16/16 [==============================] - ETA: 0s - loss: 0.0590 - accuracy: 0.9861 - precision: 0.9861 - recall: 0.9861\n",
            "Epoch 27: val_accuracy did not improve from 0.92913\n",
            "16/16 [==============================] - 13s 824ms/step - loss: 0.0590 - accuracy: 0.9861 - precision: 0.9861 - recall: 0.9861 - val_loss: 0.2877 - val_accuracy: 0.9134 - val_precision: 0.9134 - val_recall: 0.9134 - lr: 1.0000e-05\n",
            "Epoch 28/30\n",
            "16/16 [==============================] - ETA: 0s - loss: 0.0619 - accuracy: 0.9782 - precision: 0.9782 - recall: 0.9782\n",
            "Epoch 28: val_accuracy did not improve from 0.92913\n",
            "16/16 [==============================] - 13s 790ms/step - loss: 0.0619 - accuracy: 0.9782 - precision: 0.9782 - recall: 0.9782 - val_loss: 0.2853 - val_accuracy: 0.9055 - val_precision: 0.9055 - val_recall: 0.9055 - lr: 1.0000e-05\n",
            "Epoch 29/30\n",
            "16/16 [==============================] - ETA: 0s - loss: 0.0651 - accuracy: 0.9821 - precision: 0.9821 - recall: 0.9821\n",
            "Epoch 29: val_accuracy did not improve from 0.92913\n",
            "16/16 [==============================] - 13s 793ms/step - loss: 0.0651 - accuracy: 0.9821 - precision: 0.9821 - recall: 0.9821 - val_loss: 0.2881 - val_accuracy: 0.9134 - val_precision: 0.9134 - val_recall: 0.9134 - lr: 1.0000e-05\n",
            "Epoch 30/30\n",
            "16/16 [==============================] - ETA: 0s - loss: 0.0664 - accuracy: 0.9722 - precision: 0.9722 - recall: 0.9722\n",
            "Epoch 30: val_accuracy did not improve from 0.92913\n",
            "16/16 [==============================] - 12s 782ms/step - loss: 0.0664 - accuracy: 0.9722 - precision: 0.9722 - recall: 0.9722 - val_loss: 0.2883 - val_accuracy: 0.9134 - val_precision: 0.9134 - val_recall: 0.9134 - lr: 1.0000e-05\n"
          ]
        }
      ]
    },
    {
      "cell_type": "code",
      "metadata": {
        "colab": {
          "base_uri": "https://localhost:8080/",
          "height": 646
        },
        "id": "jTSzFRSyjPGB",
        "outputId": "076a6c15-6368-4d76-a731-0d5febe8fd46"
      },
      "source": [
        "history_frame = pd.DataFrame(history.history)\n",
        "history_frame.loc[:, ['loss', 'val_loss']].plot()\n",
        "history_frame.loc[:, ['accuracy', 'val_accuracy']].plot();\n",
        "\n",
        "print('best')\n",
        "history_frame.loc[:, ['accuracy', 'val_accuracy']].max()\n"
      ],
      "execution_count": 11,
      "outputs": [
        {
          "output_type": "stream",
          "name": "stdout",
          "text": [
            "best\n"
          ]
        },
        {
          "output_type": "execute_result",
          "data": {
            "text/plain": [
              "accuracy        0.986111\n",
              "val_accuracy    0.929134\n",
              "dtype: float64"
            ]
          },
          "metadata": {},
          "execution_count": 11
        },
        {
          "output_type": "display_data",
          "data": {
            "text/plain": [
              "<Figure size 432x288 with 1 Axes>"
            ],
            "image/png": "[encoded data removed]"
          },
          "metadata": {
            "needs_background": "light"
          }
        },
        {
          "output_type": "display_data",
          "data": {
            "text/plain": [
              "<Figure size 432x288 with 1 Axes>"
            ],
            "image/png": "[encoded data removed]"
          },
          "metadata": {
            "needs_background": "light"
          }
        }
      ]
    },
    {
      "cell_type": "code",
      "metadata": {
        "colab": {
          "base_uri": "https://localhost:8080/"
        },
        "id": "0DziQMiSjQwH",
        "outputId": "c2b5b63f-3c50-4097-d980-9d8c994aaed1"
      },
      "source": [
        "results_val = model.evaluate_generator(val_gen, verbose=0)\n",
        "print(\"    Val Loss: {:.5f}\".format(results_val[0]))\n",
        "print(\"Val Accuracy: {:.2f}%\".format(results_val[1] * 100))\n",
        "precision = results_val[2]\n",
        "recall = results_val[3]\n",
        "print(\"Val F1 score : {:.2f}\".format(2*((precision*recall)/(precision+recall+1e-7))))"
      ],
      "execution_count": 12,
      "outputs": [
        {
          "output_type": "stream",
          "name": "stdout",
          "text": [
            "    Val Loss: 0.28831\n",
            "Val Accuracy: 91.34%\n",
            "Val F1 score : 0.91\n"
          ]
        }
      ]
    },
    {
      "cell_type": "code",
      "metadata": {
        "colab": {
          "base_uri": "https://localhost:8080/"
        },
        "id": "uf8kKcrPAZz8",
        "outputId": "01ace673-dbe5-48f0-91f1-680b492707b5"
      },
      "source": [
        "from sklearn.metrics import confusion_matrix\n",
        "Y_pred = model.predict_generator(val_gen, )\n",
        "y_pred = np.argmax(Y_pred, axis=1)\n",
        "print('Confusion Matrix')\n",
        "print(confusion_matrix(val_gen.classes, y_pred))\n"
      ],
      "execution_count": 13,
      "outputs": [
        {
          "output_type": "stream",
          "name": "stdout",
          "text": [
            "Confusion Matrix\n",
            "[[82 20]\n",
            " [19  6]]\n"
          ]
        }
      ]
    },
    {
      "cell_type": "code",
      "metadata": {
        "colab": {
          "base_uri": "https://localhost:8080/"
        },
        "id": "kBp7KA86QIAv",
        "outputId": "5f1e115a-ef09-4692-d475-ebbe77ff1b4f"
      },
      "source": [
        "#this is for comparing with saved model\n",
        "checkpoint_dir = os.path.dirname()\n",
        "latest = tf.train.latest_checkpoint(checkpoint_dir)\n",
        "model.load_weights(latest)\n",
        "\n",
        "results_val_best = model.evaluate_generator(val_gen, verbose=0)\n",
        "print(\"Best Val Loss: {:.5f}\".format(results_val[0]))\n",
        "print(\"Best Val Accuracy: {:.2f}%\".format(results_val[1] * 100))\n",
        "precision = results_val[2]\n",
        "recall = results_val[3]\n",
        "print(\"Best Val F1 score : {:.2f}\".format(2*((precision*recall)/(precision+recall+1e-7))))\n"
      ],
      "execution_count": 15,
      "outputs": [
        {
          "output_type": "stream",
          "name": "stdout",
          "text": [
            "Best Val Loss: 0.28831\n",
            "Best Val Accuracy: 91.34%\n",
            "Best Val F1 score : 0.91\n"
          ]
        }
      ]
    }
  ]
}